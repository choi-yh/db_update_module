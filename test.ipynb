{
 "metadata": {
  "language_info": {
   "codemirror_mode": {
    "name": "ipython",
    "version": 3
   },
   "file_extension": ".py",
   "mimetype": "text/x-python",
   "name": "python",
   "nbconvert_exporter": "python",
   "pygments_lexer": "ipython3",
   "version": "3.8.1"
  },
  "orig_nbformat": 2,
  "kernelspec": {
   "name": "python3",
   "display_name": "Python 3.8.1 64-bit",
   "metadata": {
    "interpreter": {
     "hash": "752579dbebe7f4dfe7c1aa72eac13e23fc88be2cc1ea7ab14e1f8d69b2d97d12"
    }
   }
  }
 },
 "nbformat": 4,
 "nbformat_minor": 2,
 "cells": [
  {
   "cell_type": "code",
   "execution_count": 10,
   "metadata": {},
   "outputs": [],
   "source": [
    "import pandas as pd\n",
    "from x_x import account_info as ai\n",
    "from pyjin import pyjin"
   ]
  },
  {
   "cell_type": "code",
   "execution_count": null,
   "metadata": {},
   "outputs": [],
   "source": []
  },
  {
   "cell_type": "code",
   "execution_count": 11,
   "metadata": {},
   "outputs": [],
   "source": [
    "json_input = [{'pid': 12, 'net_contents_prob': '0.0', 'reordered_PT_cnt': 29},\n",
    " {'pid': 13,'net_contents_prob': '0.0', 'reordered_PT_cnt': 23},\n",
    " {'pid': 14,'net_contents_prob': '0.0', 'reordered_PT_cnt': 43},\n",
    " {'pid': 15,'net_contents_prob': '0.01', 'reordered_PT_cnt': 1},\n",
    " {'pid': 16,'net_contents_prob': '0.0', 'reordered_PT_cnt': 9},\n",
    " {'pid': 17,'net_contents_prob': '0.0', 'reordered_PT_cnt': 4}]"
   ]
  },
  {
   "cell_type": "code",
   "execution_count": 46,
   "metadata": {},
   "outputs": [
    {
     "output_type": "execute_result",
     "data": {
      "text/plain": [
       "[{'pid': 12, 'net_contents_prob': '0.0', 'reordered_PT_cnt': 29},\n",
       " {'pid': 13, 'net_contents_prob': '0.0', 'reordered_PT_cnt': 23},\n",
       " {'pid': 14, 'net_contents_prob': '0.0', 'reordered_PT_cnt': 43},\n",
       " {'pid': 15, 'net_contents_prob': '0.01', 'reordered_PT_cnt': 1},\n",
       " {'pid': 16, 'net_contents_prob': '0.0', 'reordered_PT_cnt': 9},\n",
       " {'pid': 17, 'net_contents_prob': '0.0', 'reordered_PT_cnt': 4}]"
      ]
     },
     "metadata": {},
     "execution_count": 46
    }
   ],
   "source": [
    "json_input"
   ]
  },
  {
   "cell_type": "code",
   "execution_count": 51,
   "metadata": {},
   "outputs": [],
   "source": [
    "columns = pd.DataFrame(json_input).columns"
   ]
  },
  {
   "cell_type": "code",
   "execution_count": 56,
   "metadata": {},
   "outputs": [],
   "source": [
    "key_columns = columns[0]\n",
    "set_columns = columns[1:]\n",
    "\n"
   ]
  },
  {
   "cell_type": "code",
   "execution_count": 62,
   "metadata": {},
   "outputs": [
    {
     "output_type": "execute_result",
     "data": {
      "text/plain": [
       "'[{\"net_contents_prob\":\"0.0\",\"reordered_PT_cnt\":29},{\"net_contents_prob\":\"0.0\",\"reordered_PT_cnt\":23},{\"net_contents_prob\":\"0.0\",\"reordered_PT_cnt\":43},{\"net_contents_prob\":\"0.01\",\"reordered_PT_cnt\":1},{\"net_contents_prob\":\"0.0\",\"reordered_PT_cnt\":9},{\"net_contents_prob\":\"0.0\",\"reordered_PT_cnt\":4}]'"
      ]
     },
     "metadata": {},
     "execution_count": 62
    }
   ],
   "source": [
    "pd.DataFrame(json_input)[set_columns].to_json(orient='records')"
   ]
  },
  {
   "cell_type": "code",
   "execution_count": 57,
   "metadata": {},
   "outputs": [
    {
     "output_type": "execute_result",
     "data": {
      "text/plain": [
       "Index(['net_contents_prob', 'reordered_PT_cnt'], dtype='object')"
      ]
     },
     "metadata": {},
     "execution_count": 57
    }
   ],
   "source": [
    "set_columns"
   ]
  },
  {
   "cell_type": "code",
   "execution_count": 15,
   "metadata": {},
   "outputs": [],
   "source": [
    "raw = [{'pid': 12},\n",
    " {'pid': 13},\n",
    " {'pid': 14},\n",
    " {'pid': 15},\n",
    " {'pid': 16},\n",
    " {'pid': 17}]"
   ]
  },
  {
   "cell_type": "code",
   "execution_count": 12,
   "metadata": {},
   "outputs": [],
   "source": [
    "acc = ai.vmdb_sql_info(db='yunsik_test')"
   ]
  },
  {
   "cell_type": "code",
   "execution_count": 13,
   "metadata": {},
   "outputs": [],
   "source": [
    "def bulk_insert_table(insert_json_list, table_name, to_conn):\n",
    "    # dummy table 생성\n",
    "    pd.DataFrame(insert_json_list).to_sql(table_name, index=False, if_exists='replace', con=to_conn ,method='multi', chunksize=300)\n",
    "    \n"
   ]
  },
  {
   "cell_type": "code",
   "execution_count": 14,
   "metadata": {},
   "outputs": [],
   "source": [
    "with pyjin.connectDB(**acc) as con:\n",
    "    bulk_insert_table(json_input, 'test_dummy', con)"
   ]
  },
  {
   "cell_type": "code",
   "execution_count": 16,
   "metadata": {},
   "outputs": [],
   "source": [
    "with pyjin.connectDB(**acc) as con:\n",
    "    bulk_insert_table(raw, 'test', con)"
   ]
  },
  {
   "cell_type": "code",
   "execution_count": 64,
   "metadata": {},
   "outputs": [],
   "source": [
    "list_dict_condition = [{'pid': 12},\n",
    " {'pid': 13},\n",
    " {'pid': 14},\n",
    " {'pid': 15},\n",
    " {'pid': 16},\n",
    " {'pid': 17}]"
   ]
  },
  {
   "cell_type": "code",
   "execution_count": 65,
   "metadata": {},
   "outputs": [],
   "source": [
    "list_dict_input = [{'net_contents_prob': '0.0', 'reordered_PT_cnt': 29},\n",
    " {'net_contents_prob': '0.0', 'reordered_PT_cnt': 23},\n",
    " {'net_contents_prob': '0.0', 'reordered_PT_cnt': 43},\n",
    " {'net_contents_prob': '0.01', 'reordered_PT_cnt': 1},\n",
    " {'net_contents_prob': '0.0', 'reordered_PT_cnt': 9},\n",
    " {'net_contents_prob': '0.0', 'reordered_PT_cnt': 4}]"
   ]
  },
  {
   "cell_type": "code",
   "execution_count": 84,
   "metadata": {},
   "outputs": [
    {
     "output_type": "stream",
     "name": "stdout",
     "text": [
      "   pid net_contents_prob  reordered_PT_cnt\n",
      "0   12               0.0                29\n",
      "1   13               0.0                23\n",
      "2   14               0.0                43\n",
      "3   15              0.01                 1\n",
      "4   16               0.0                 9\n",
      "5   17               0.0                 4\n",
      "dummy table 생성완료\n",
      "query error :  (pymysql.err.ProgrammingError) (1146, \"Table 'yunsik_test.test_dummy' doesn't exist\")\n",
      "[SQL: \n",
      "            update yunsik_test.test A\n",
      "            inner join yunsik_test.test_dummy B \n",
      "            on A.pid = B.pid\n",
      "            set A.net_contents_prob = B.net_contents_prob,A.reordered_PT_cnt = B.reordered_PT_cnt\n",
      "            ]\n",
      "(Background on this error at: http://sqlalche.me/e/14/f405)\n",
      "test update failed, (pymysql.err.ProgrammingError) (1146, \"Table 'yunsik_test.test_dummy' doesn't exist\")\n",
      "[SQL: \n",
      "            update yunsik_test.test A\n",
      "            inner join yunsik_test.test_dummy B \n",
      "            on A.pid = B.pid\n",
      "            set A.net_contents_prob = B.net_contents_prob,A.reordered_PT_cnt = B.reordered_PT_cnt\n",
      "            ]\n",
      "(Background on this error at: http://sqlalche.me/e/14/f405)\n",
      "update completed\n"
     ]
    }
   ],
   "source": [
    "bulk_join_update(acc=ai.vmdb_sql_info(),\n",
    "                 db='yunsik_test',\n",
    "                 table='test',\n",
    "                 list_dict_input=list_dict_input,\n",
    "                 list_dict_condition=list_dict_condition)"
   ]
  },
  {
   "cell_type": "code",
   "execution_count": 89,
   "metadata": {},
   "outputs": [],
   "source": [
    "def bulk_join_update(acc,\n",
    "                     db,\n",
    "                     table,\n",
    "                     list_dict_input,\n",
    "                     list_dict_condition):\n",
    "\n",
    "    set_conditions = \",\".join([\"A.{key} = B.{key}\".format(key=key) for key, value in list_dict_input[0].items()])\n",
    "    join_conditions = \",\".join([\"A.{key} = B.{key}\".format(key=key) for key, value in list_dict_condition[0].items()])\n",
    "    \n",
    "\t# dummy table\n",
    "    df = pd.concat([pd.DataFrame(list_dict_condition),pd.DataFrame(list_dict_input)],axis=1)\n",
    "    print(df)\n",
    "    join_query = \"\"\"\n",
    "            update {db}.{table} A\n",
    "            inner join {db}.{table_dummy} B \n",
    "            on {join_conditions}\n",
    "            set {set_conditions}\n",
    "            \"\"\".format(db=db,\n",
    "                       table=table,\n",
    "                       table_dummy=table+'_dummy',\n",
    "                       join_conditions=join_conditions,\n",
    "                       set_conditions=set_conditions)\n",
    "\n",
    "    with pyjin.connectDB(**acc) as con:\n",
    "        try:\n",
    "            # dummy table이 없으면 새로 create하고, 있으면 drop create insert. (if_exists='replace')\n",
    "            df.to_sql(table+'_dummy', schema=db, con=con, if_exists='replace', index=False, chunksize=300, method='multi')\n",
    "            pyjin.print_logging(\"dummy table 업뎃 완료\")\n",
    "            ##  join update\n",
    "            pyjin.execute_query(con,join_query)\n",
    "\n",
    "        except Exception as e:\n",
    "            pyjin.print_logging(\"{} update failed, {}\".format(table, e))\n",
    "\n",
    "    pyjin.print_logging('update completed')\n"
   ]
  },
  {
   "cell_type": "code",
   "execution_count": 90,
   "metadata": {},
   "outputs": [
    {
     "output_type": "stream",
     "name": "stdout",
     "text": [
      "   pid net_contents_prob  reordered_PT_cnt\n",
      "0   12               0.0                29\n",
      "1   13               0.0                23\n",
      "2   14               0.0                43\n",
      "3   15              0.01                 1\n",
      "4   16               0.0                 9\n",
      "5   17               0.0                 4\n",
      "dummy table 업뎃 완료\n",
      "update completed\n"
     ]
    }
   ],
   "source": [
    "bulk_join_update(acc=ai.vmdb_sql_info(),\n",
    "                 db='yunsik_test',\n",
    "                 table='test',\n",
    "                 list_dict_input=list_dict_input,\n",
    "                 list_dict_condition=list_dict_condition)"
   ]
  },
  {
   "cell_type": "code",
   "execution_count": null,
   "metadata": {},
   "outputs": [],
   "source": []
  }
 ]
}